{
 "cells": [
  {
   "cell_type": "code",
   "execution_count": 1,
   "id": "1cc6323a",
   "metadata": {},
   "outputs": [],
   "source": [
    "# Import the libraries and modules\n",
    "import pandas as pd\n",
    "\n",
    "from selenium import webdriver\n",
    "from selenium.webdriver.chrome.service import Service\n",
    "from selenium.webdriver.common.by import By\n",
    "from selenium.webdriver.chrome.options import Options\n",
    "from selenium.webdriver.support.ui import WebDriverWait\n",
    "from selenium.webdriver.support import expected_conditions as EC\n",
    "\n",
    "import time"
   ]
  },
  {
   "cell_type": "code",
   "execution_count": null,
   "id": "9e50f21d",
   "metadata": {},
   "outputs": [],
   "source": [
    "# Base URL and headers\n",
    "BASE_URL = \"https://www.cityu.edu.hk/hktech300/start-ups/all-start-ups?page=\"\n",
    "\n",
    "# Chrome options\n",
    "OPTIONS = Options()\n",
    "OPTIONS.add_argument(\"--start-maximized\") # Added for visual monitoring\n",
    "\n",
    "# Path to ChromeDriver\n",
    "SERVICE = Service(\"/opt/homebrew/bin/chromedriver\")"
   ]
  },
  {
   "cell_type": "code",
   "execution_count": null,
   "id": "2e96b164",
   "metadata": {},
   "outputs": [],
   "source": [
    "# Storage List for startup company data\n",
    "startup_data = []\n",
    "\n",
    "# Total pages to scrape\n",
    "total_pages = 42"
   ]
  },
  {
   "cell_type": "markdown",
   "id": "8543e547",
   "metadata": {},
   "source": [
    "### Get Details - Company Name and CityU URL"
   ]
  },
  {
   "cell_type": "code",
   "execution_count": null,
   "id": "1372918e",
   "metadata": {},
   "outputs": [],
   "source": [
    "# Initialize WebDriver\n",
    "driver = webdriver.Chrome(service=SERVICE, options=OPTIONS)\n",
    "\n",
    "try:\n",
    "    for page in range(total_pages + 1):\n",
    "        driver.get(f\"{BASE_URL}{page}\")\n",
    "\n",
    "        try:\n",
    "            WebDriverWait(driver, 10).until(EC.presence_of_all_elements_located((By.CSS_SELECTOR, \".card.fund.team\")))\n",
    "        except:\n",
    "            print(f'\"Timeout: Cards not loaded for Page {page}. Skipping...\"')\n",
    "            continue\n",
    "\n",
    "        cards = driver.find_elements(By.CSS_SELECTOR, \".card.fund.team\")\n",
    "\n",
    "        for card in cards:\n",
    "            try:\n",
    "                links = card.find_elements(By.TAG_NAME, \"a\")\n",
    "                if len(links) >= 2:\n",
    "                    company_name = links[1].text.strip()\n",
    "                    company_url = links[1].get_attribute(\"href\").strip()\n",
    "                    startup_data.append({\n",
    "                        \"Company Name\": company_name,\n",
    "                        \"CityU URL\": company_url\n",
    "                    })\n",
    "                else:\n",
    "                    print(\"Incomplete card: <a> tags missing\")\n",
    "            except Exception as e:\n",
    "                print(f\"Error parsing card: {e}\")\n",
    "\n",
    "        time.sleep(1)\n",
    "\n",
    "finally:\n",
    "    driver.quit()"
   ]
  },
  {
   "cell_type": "code",
   "execution_count": null,
   "id": "e5ade8be",
   "metadata": {},
   "outputs": [],
   "source": [
    "# Create a DataFrame from the collected data in a list\n",
    "df = pd.DataFrame(startup_data)"
   ]
  },
  {
   "cell_type": "code",
   "execution_count": 6,
   "id": "3eab2c55",
   "metadata": {},
   "outputs": [
    {
     "name": "stdout",
     "output_type": "stream",
     "text": [
      "756 startups saved to hktech300_startups.xlsx\n"
     ]
    }
   ],
   "source": [
    "# Save to Excel file\n",
    "excel_file = \"hktech300_startups.xlsx\"\n",
    "df.to_excel(excel_file, index=False)\n",
    "print(f\"{len(df)} startups saved to {excel_file}\")"
   ]
  },
  {
   "cell_type": "markdown",
   "id": "9491f88a",
   "metadata": {},
   "source": [
    "### Get Details - Company Website and Email"
   ]
  },
  {
   "cell_type": "code",
   "execution_count": null,
   "id": "24218e0c",
   "metadata": {},
   "outputs": [],
   "source": [
    "# Read Excel\n",
    "df = pd.read_excel(excel_file)\n",
    "\n",
    "# Add columns if not already present\n",
    "if \"Company Website\" not in df.columns:\n",
    "    df[\"Company Website\"] = \"\"\n",
    "if \"Email\" not in df.columns:\n",
    "    df[\"Email\"] = \"\""
   ]
  },
  {
   "cell_type": "code",
   "execution_count": 8,
   "id": "48beac20",
   "metadata": {},
   "outputs": [],
   "source": [
    "driver = webdriver.Chrome(service=SERVICE, options=OPTIONS)\n",
    "\n",
    "# Visit each CityU URL and extract details\n",
    "for index, row in df.iterrows():\n",
    "    cityu_url = row[\"CityU URL\"]\n",
    "\n",
    "    try:\n",
    "        driver.get(cityu_url)\n",
    "        time.sleep(1.5)  # Allow page to load\n",
    "\n",
    "        # Extract Company Website\n",
    "        try:\n",
    "            website_elem = driver.find_element(By.CSS_SELECTOR, \".field--name-field-client a\")\n",
    "            website = website_elem.get_attribute(\"href\").strip()\n",
    "            df.at[index, \"Company Website\"] = website\n",
    "        except:\n",
    "            df.at[index, \"Company Website\"] = \"\"\n",
    "\n",
    "        # Extract Email\n",
    "        try:\n",
    "            email_elem = driver.find_element(By.CSS_SELECTOR, \".field--name-field-team-members-email a\")\n",
    "            email = email_elem.get_attribute(\"href\").replace(\"mailto:\", \"\").strip()\n",
    "            df.at[index, \"Email\"] = email\n",
    "        except:\n",
    "            df.at[index, \"Email\"] = \"\"\n",
    "\n",
    "    except Exception as e:\n",
    "        print(f\"Error for {row['Company Name']}: {e}\")\n",
    "\n",
    "    time.sleep(1)\n",
    "\n",
    "driver.quit()"
   ]
  },
  {
   "cell_type": "code",
   "execution_count": 9,
   "id": "d8b5a336",
   "metadata": {},
   "outputs": [
    {
     "name": "stdout",
     "output_type": "stream",
     "text": [
      "Additional Data saved to hktech300_startups.xlsx\n"
     ]
    }
   ],
   "source": [
    "# Save updated data back to same Excel file\n",
    "df.to_excel(\"hktech300_startups.xlsx\", index=False)\n",
    "print(\"Additional Data saved to hktech300_startups.xlsx\")"
   ]
  }
 ],
 "metadata": {
  "kernelspec": {
   "display_name": "Python 3",
   "language": "python",
   "name": "python3"
  },
  "language_info": {
   "codemirror_mode": {
    "name": "ipython",
    "version": 3
   },
   "file_extension": ".py",
   "mimetype": "text/x-python",
   "name": "python",
   "nbconvert_exporter": "python",
   "pygments_lexer": "ipython3",
   "version": "3.10.2"
  }
 },
 "nbformat": 4,
 "nbformat_minor": 5
}

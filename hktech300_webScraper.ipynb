{
 "cells": [
  {
   "cell_type": "code",
   "execution_count": 1,
   "id": "1cc6323a",
   "metadata": {},
   "outputs": [],
   "source": [
    "# Import the libraries and modules\n",
    "import pandas as pd\n",
    "\n",
    "from selenium import webdriver\n",
    "from selenium.webdriver.chrome.service import Service\n",
    "from selenium.webdriver.common.by import By\n",
    "from selenium.webdriver.chrome.options import Options\n",
    "from selenium.webdriver.support.ui import WebDriverWait\n",
    "from selenium.webdriver.support import expected_conditions as EC\n",
    "\n",
    "import time"
   ]
  },
  {
   "cell_type": "code",
   "execution_count": 2,
   "id": "9e50f21d",
   "metadata": {},
   "outputs": [],
   "source": [
    "# Base URL and headers\n",
    "BASE_URL = \"https://www.cityu.edu.hk/hktech300/start-ups/all-start-ups?page=\"\n",
    "\n",
    "# Chrome options\n",
    "OPTIONS = Options()\n",
    "OPTIONS.add_argument(\"--start-maximized\")\n",
    "\n",
    "# Path to ChromeDriver\n",
    "SERVICE = Service(\"/opt/homebrew/bin/chromedriver\")"
   ]
  },
  {
   "cell_type": "code",
   "execution_count": 3,
   "id": "2e96b164",
   "metadata": {},
   "outputs": [],
   "source": [
    "# Storage for company data\n",
    "startup_data = []\n",
    "\n",
    "# Total pages to scrape\n",
    "total_pages = 42"
   ]
  },
  {
   "cell_type": "code",
   "execution_count": null,
   "id": "1372918e",
   "metadata": {},
   "outputs": [
    {
     "name": "stdout",
     "output_type": "stream",
     "text": [
      "Timeout: Cards not loaded. Skipping...\n"
     ]
    }
   ],
   "source": [
    "# Initialize WebDriver\n",
    "driver = webdriver.Chrome(service=SERVICE, options=OPTIONS)\n",
    "\n",
    "try:\n",
    "    for page in range(total_pages + 1):\n",
    "        driver.get(f\"{BASE_URL}{page}\")\n",
    "\n",
    "        try:\n",
    "            WebDriverWait(driver, 10).until(\n",
    "                EC.presence_of_all_elements_located((By.CSS_SELECTOR, \".card.fund.team\"))\n",
    "            )\n",
    "        except:\n",
    "            print(\"Timeout: Cards not loaded for Page {page}. Skipping...\")\n",
    "            continue\n",
    "\n",
    "        cards = driver.find_elements(By.CSS_SELECTOR, \".card.fund.team\")\n",
    "\n",
    "        for card in cards:\n",
    "            try:\n",
    "                links = card.find_elements(By.TAG_NAME, \"a\")\n",
    "                if len(links) >= 2:\n",
    "                    company_name = links[1].text.strip()\n",
    "                    company_url = links[1].get_attribute(\"href\").strip()\n",
    "                    startup_data.append({\n",
    "                        \"Company Name\": company_name,\n",
    "                        \"CityU URL\": company_url\n",
    "                    })\n",
    "                else:\n",
    "                    print(\"Incomplete card: <a> tags missing\")\n",
    "            except Exception as e:\n",
    "                print(f\"Error parsing card: {e}\")\n",
    "\n",
    "        time.sleep(1)\n",
    "\n",
    "finally:\n",
    "    driver.quit()"
   ]
  },
  {
   "cell_type": "code",
   "execution_count": 5,
   "id": "e5ade8be",
   "metadata": {},
   "outputs": [],
   "source": [
    "# Create a DataFrame from the collected data\n",
    "df = pd.DataFrame(startup_data)"
   ]
  },
  {
   "cell_type": "code",
   "execution_count": null,
   "id": "3eab2c55",
   "metadata": {},
   "outputs": [
    {
     "name": "stdout",
     "output_type": "stream",
     "text": [
      "\n",
      "📄✅ Finished! 756 startups saved to hktech300_startups.csv\n"
     ]
    }
   ],
   "source": [
    "# Save to CSV\n",
    "csv_file = \"hktech300_startups.csv\"\n",
    "df.to_csv(csv_file, index=False, encoding=\"utf-8\")\n",
    "\n",
    "print(f\"{len(df)} startups saved to {csv_file}\")"
   ]
  }
 ],
 "metadata": {
  "kernelspec": {
   "display_name": "Python 3",
   "language": "python",
   "name": "python3"
  },
  "language_info": {
   "codemirror_mode": {
    "name": "ipython",
    "version": 3
   },
   "file_extension": ".py",
   "mimetype": "text/x-python",
   "name": "python",
   "nbconvert_exporter": "python",
   "pygments_lexer": "ipython3",
   "version": "3.10.2"
  }
 },
 "nbformat": 4,
 "nbformat_minor": 5
}
